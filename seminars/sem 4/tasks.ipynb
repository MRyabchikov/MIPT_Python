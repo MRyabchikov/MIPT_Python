{
 "cells": [
  {
   "cell_type": "markdown",
   "metadata": {},
   "source": [
    "# Семинар: строки"
   ]
  },
  {
   "cell_type": "markdown",
   "metadata": {},
   "source": [
    "## Разминка\n",
    "\n",
    "Реализовать две функции: первая удаляет все цифры в строке, вторая - все буквы."
   ]
  },
  {
   "cell_type": "code",
   "execution_count": null,
   "metadata": {},
   "outputs": [],
   "source": [
    "def delete_digits(string: str) -> str:\n",
    "    # ваш код\n",
    "    pass\n",
    "\n",
    "\n",
    "def delete_letters(string: str) -> str:\n",
    "    # ваш код\n",
    "    pass"
   ]
  },
  {
   "cell_type": "markdown",
   "metadata": {},
   "source": [
    "**Тесты**:"
   ]
  },
  {
   "cell_type": "code",
   "execution_count": null,
   "metadata": {},
   "outputs": [],
   "source": [
    "assert delete_digits('123abnd4FDhj32') == 'abndFDhj'\n",
    "assert delete_letters('123abnd4FDhj32') == '123432'"
   ]
  },
  {
   "cell_type": "markdown",
   "metadata": {},
   "source": [
    "## Задача 1: Наивный Шифр\n",
    "\n",
    "**Условие**:\n",
    "\n",
    "Мы решили зашифровать слово, состоящее из букв английского алфавита в нижнем регистре. Но поскольку наши познания в криптографии невелики для шифрования решено было использовать один из самых простых шифров: перестановка над английским алфавитом. Перестановка записывается следующим образом: заполняется список из 26 элементов; номер ячейки соответствует номеру буквы в полученной перестановке; содержимое ячейки - ASCII код буквы. Ваша задача - реализовать алгоритм, который будет шифровывать заданное слово по заданной перестановке.\n",
    "\n",
    "**Вход**:\n",
    "- word - строка, состоящая только из букв англиского алфавита в нижнем регистре;  \n",
    "- permutation - список, состоящий из 26 элементов; содержимое списка - ASCII-коды букв английского алфавита в нижнем регистре;\n",
    "\n",
    "**Выход**:\n",
    "\n",
    "- зашифрованное слово - строка;\n",
    "\n",
    "**Решение:**"
   ]
  },
  {
   "cell_type": "code",
   "execution_count": 138,
   "metadata": {},
   "outputs": [],
   "source": [
    "def encode(word: str, permutation: list[int]) -> str:\n",
    "    ans = ''\n",
    "    for c in word:\n",
    "        ans += chr(permutation[ord(c) - ord('a')])\n",
    "    return ans"
   ]
  },
  {
   "cell_type": "markdown",
   "metadata": {},
   "source": [
    "**Тесты**:"
   ]
  },
  {
   "cell_type": "code",
   "execution_count": 140,
   "metadata": {},
   "outputs": [
    {
     "data": {
      "text/plain": [
       "'zlllz'"
      ]
     },
     "execution_count": 140,
     "metadata": {},
     "output_type": "execute_result"
    }
   ],
   "source": [
    "permutation = [\n",
    "    122, 108, 99, 100, 101, 102, 103, 104, 105,\n",
    "    106, 107, 108, 109, 110, 108, 112, 113, 114,\n",
    "    115, 116, 117, 118, 119, 120, 121, 97\n",
    "]\n",
    "\n",
    "word = 'aboba'\n",
    "\n",
    "# assert 'zbobz' == encode(word, permutation)\n",
    "encode(word, permutation)"
   ]
  },
  {
   "cell_type": "markdown",
   "metadata": {},
   "source": [
    "**Объяснение:** в перестановке мы переставили буквы 'a' и 'z' местами."
   ]
  },
  {
   "cell_type": "markdown",
   "metadata": {},
   "source": [
    "## Задача 2: Переставь слова\n",
    "\n",
    "**Условие**:\n",
    "\n",
    "Дана последовательность символов: строка, состоящая из заглавных и строчных букв английского алфавита, знаков препинания и пробелов. Причем, строка составлена не самым грамотным пользователем, а потому количество пробелов между непробельными символами может быть произвольным. Также неисключено наличие пробелов в начале и в конце строки. Необходимо найти самое длинное слово в строке, самое короткое слово в строке и поменять их местами. В качестве ответа вернуть строку с переставленными словами. Пробелы между словами, а также в начале и конце строки необходимо оставить нетронутыми.\n",
    "\n",
    "Если слов одинковой длины несколько, необходимо взять первое встретевшееся.\n",
    "\n",
    "*Примечание*: словом считается любая последовательность символов, не содержащая пробелов.\n",
    "\n",
    "**Вход**:\n",
    "\n",
    "- строка, состоящая из букв английского алфавита, знаков препинания и пробелов;  \n",
    "\n",
    "**Выход:**\n",
    "\n",
    "- строка, в которой самое длинное слово и самое короткое слово переставлены;  \n",
    "\n",
    "**Решение**:"
   ]
  },
  {
   "cell_type": "code",
   "execution_count": 141,
   "metadata": {},
   "outputs": [],
   "source": [
    "def swap_words(sentence: str) -> str:\n",
    "    tmp = sentence.lstrip().rstrip()\n",
    "    while '  ' in tmp:\n",
    "        tmp = tmp.replace('  ', ' ')\n",
    "    m = tmp.split(' ')\n",
    "    m.sort(key = len, reverse=True)\n",
    "    longest, shortest = m[0], [s for s in m if len(s) == len(m[-1])][0]\n",
    "    sentence = sentence.replace(longest, '*_*', 1).replace(shortest, longest, 1).replace('*_*', shortest, 1)\n",
    "    print(sentence)\n",
    "    return sentence"
   ]
  },
  {
   "cell_type": "markdown",
   "metadata": {},
   "source": [
    "**Тесты:**"
   ]
  },
  {
   "cell_type": "code",
   "execution_count": 144,
   "metadata": {},
   "outputs": [
    {
     "name": "stdout",
     "output_type": "stream",
     "text": [
      " dd b  c   a  \n"
     ]
    },
    {
     "data": {
      "text/plain": [
       "['', 'a', 'b', '', 'c', '', '', 'dd', '', 'bbb']"
      ]
     },
     "execution_count": 144,
     "metadata": {},
     "output_type": "execute_result"
    }
   ],
   "source": [
    "assert ' dd b  c   a  ' == swap_words(' a b  c   dd  ')\n",
    "' a b  c   dd  bbb'.split(' ')\n"
   ]
  },
  {
   "cell_type": "markdown",
   "metadata": {},
   "source": [
    "## Задача 3: Правильная скобочная последовательность\n",
    "\n",
    "**Условие**:\n",
    "\n",
    "Правильная скобочная последовательность определяется следующим образом:\n",
    "\n",
    "- пустая строка - правильная скобочная последовательность;  \n",
    "- правильная скобочная последовательность, взятая в круглые скобки - правильная скобочная последовательность;  \n",
    "- правильная скобочная последовательность, к которой приписана слева или справа правильная скобочная последовательность — правильная скобочная последовательность;\n",
    "\n",
    "Итак, на вход подается строка, состоящая только из символов \"(\", \")\". Ваша задача - определить является ли поданная строка правильной скобочной последовательностью или нет.\n",
    "\n",
    "**Вход**:\n",
    "\n",
    "- sequence - строка, состоящая из круглых скобок;\n",
    "\n",
    "**Выход**:\n",
    "\n",
    "- булево значение, True, если строка - правильная скобочная последовательность, False - иначе;\n",
    "\n",
    "**Решение**:"
   ]
  },
  {
   "cell_type": "code",
   "execution_count": 145,
   "metadata": {},
   "outputs": [],
   "source": [
    "def is_correct_bracket_seq(sequence: str) -> bool:\n",
    "    ctr = 0\n",
    "    for c in sequence:\n",
    "        if c == '(':\n",
    "            ctr+=1\n",
    "        elif c == ')':\n",
    "            if ctr <= 0:\n",
    "                return False\n",
    "            else:\n",
    "                ctr-=1\n",
    "        else:\n",
    "            return False\n",
    "    return ctr == 0"
   ]
  },
  {
   "cell_type": "markdown",
   "metadata": {},
   "source": [
    "**Тесты**:"
   ]
  },
  {
   "cell_type": "code",
   "execution_count": 147,
   "metadata": {},
   "outputs": [],
   "source": [
    "assert is_correct_bracket_seq('')\n",
    "assert is_correct_bracket_seq('()()')\n",
    "assert not is_correct_bracket_seq(')(')\n",
    "assert not is_correct_bracket_seq('()()((())()')"
   ]
  },
  {
   "cell_type": "markdown",
   "metadata": {},
   "source": [
    "## Задача 4: Странный калькулятор\n",
    "\n",
    "**Условие**:\n",
    "\n",
    "Назовем странным калькулятором калькулятор, который работает следующим образом:\n",
    "\n",
    "- на вход калькулятору подается строка, в которой описано некоторое алгебраическое выражение;  \n",
    "- операндами этого выражения являются исключительно целые числа, записанные в следующей форме: каждая цифра числа записана английским словом, обозначающим эту цифру; сами цифры, составляющие запись числа, записаны подряд. Например число десять будет иметь запись `onezero`;  \n",
    "- в состав строки входят только операторы сложения и умножения;  \n",
    "- операнды и операторы разделены пробелами;  \n",
    "- калькулятор вычисляет описанное таким образом выражение и вызвращает результат - целое число;   \n",
    "\n",
    "Ваша задача реализовать такой калькулятор.\n",
    "\n",
    "**Вход**:\n",
    "\n",
    "- строка, состоящая из слов 'zero', 'one', 'two', 'three', 'four', 'five', 'six', 'seven', 'eight', 'nine', символов '+' и '-' и пробелов;  \n",
    "\n",
    "**Выход**:\n",
    "\n",
    "- целое число - результат выполнения выражения;\n",
    "\n",
    "**Решение**:"
   ]
  },
  {
   "cell_type": "code",
   "execution_count": 178,
   "metadata": {},
   "outputs": [],
   "source": [
    "def calculate(expression: str) -> int:\n",
    "    expression = 'zero'+expression\n",
    "    d = {'zero': '0', 'one':'1', 'two':'2', 'three':'3','four':'4', 'five':'5', 'six':'6', 'seven':'7', 'eight':'8', 'nine':'9'}\n",
    "    for key in d:\n",
    "        expression = expression.replace(key, d[key])\n",
    "    expression = expression.replace(' ', '')[1:]\n",
    "    ans = 0\n",
    "    while expression != '':\n",
    "        #print(expression, end = '***')\n",
    "        if expression[0] == '-':\n",
    "            expression = expression[1:]\n",
    "            #print(expression, end = '***')\n",
    "            currAns = 0\n",
    "            mult = 1\n",
    "            while expression[0] == '-':\n",
    "                mult*=-1\n",
    "                expression = expression[1:]\n",
    "            while expression != '' and expression[0].isdigit():\n",
    "                currAns = currAns*10 + int(expression[0])\n",
    "                expression = expression[1:]\n",
    "            ans-=currAns*mult\n",
    "        else:\n",
    "            expression = expression[1:]\n",
    "            #print(expression, end = '***')\n",
    "            currAns = 0\n",
    "            mult = 1\n",
    "            while expression[0] == '-':\n",
    "                mult*=-1\n",
    "                expression = expression[1:]\n",
    "            while expression != '' and expression[0].isdigit():\n",
    "                currAns = currAns*10 + int(expression[0])\n",
    "                expression = expression[1:]\n",
    "            ans+=currAns\n",
    "        #print(ans)\n",
    "    return ans            "
   ]
  },
  {
   "cell_type": "markdown",
   "metadata": {},
   "source": [
    "**Тесты**:"
   ]
  },
  {
   "cell_type": "code",
   "execution_count": 208,
   "metadata": {},
   "outputs": [],
   "source": [
    "assert calculate('-one + two + threefive - -onezero') == 46"
   ]
  },
  {
   "cell_type": "markdown",
   "metadata": {},
   "source": [
    "## Задача 5: Парсер\n",
    "\n",
    "Необходимо реализовать следующий алгоритм парсинга документов:\n",
    "\n",
    "- на вход алгоритму подается строка, которую необходимо распарсить, и пары специальных символов, которые поддерживаются парсером; например: \\</a>, \\<a>;  \n",
    "- строка состоит из специальных символов и строк, окруженных специальными символами;  \n",
    "- валидными считаются слова, которые заключены в правильную пару служебных символов, и служебные символы этой пары входят в список символов, поддерживаемых парсером; например, слово, заключенное в служебные символы: \\</a>word\\<a>, будет валидным, если \\</a> и \\<a> поддерживаются парсером - а слово, заключенное в служебные символы: \\</b>word\\<a> - не будет валидным ни в каком случае;  \n",
    "- парсер выделяет валидные слова, и сохраняет уникальные валидные слова в список;  \n",
    "\n",
    "Ваша задача - реализовать описанный алгоритм парсинга.\n",
    "\n",
    "**Вход:** \n",
    "\n",
    "- строка, состоящая из специальных символов следующего формата: \\<[ / ]english_letter>, - и из букв английского алфавита;  \n",
    "- список пар(кортежей) - валидных служебных конструкций;  \n",
    "\n",
    "**Выход**:\n",
    "\n",
    "- список уникальных валидных слов;  \n",
    "\n",
    "**Решение:**"
   ]
  },
  {
   "cell_type": "code",
   "execution_count": 273,
   "metadata": {},
   "outputs": [],
   "source": [
    "def parse(\n",
    "    string: str, valid_pairs: list[tuple[str, str]]\n",
    ") -> list[str]:\n",
    "    ans = set()\n",
    "    while string != \"\":\n",
    "        if all(valid_pairs[i][0] not in string for i in range(len(valid_pairs))):\n",
    "            break\n",
    "        beg = min(string.index(valid_pairs[i][0]) for i in range(len(valid_pairs)) if valid_pairs[i][0] in string)\n",
    "        #print(string, string[beg:beg+3], sep = '        ')\n",
    "        if all(valid_pairs[i][1] not in string for i in range(len(valid_pairs))):\n",
    "            string = string[beg+1:]\n",
    "        else:\n",
    "            end = min(string.index(valid_pairs[i][1]) for i in range(len(valid_pairs)) if valid_pairs[i][1] in string)\n",
    "            #print('END: ', string[end:end+4])\n",
    "            for i in range(len(valid_pairs)):\n",
    "                if valid_pairs[i][0] in string and string.index(valid_pairs[i][0]) == beg:\n",
    "                    beg_pars, beg_len = i, len(valid_pairs[i][0]) \n",
    "                if valid_pairs[i][1] in string and string.index(valid_pairs[i][1]) == end:\n",
    "                    end_pars = i\n",
    "             #print('PARS', beg_pars, end_pars)\n",
    "            if end_pars == beg_pars:\n",
    "                ans.add(string[beg+beg_len:end])\n",
    "                string = string[end+1:]\n",
    "            else:\n",
    "                string = string[beg+1:]\n",
    "    return [x for x in ans if x!='']"
   ]
  },
  {
   "cell_type": "markdown",
   "metadata": {},
   "source": [
    "**Тесты:**"
   ]
  },
  {
   "cell_type": "code",
   "execution_count": 277,
   "metadata": {},
   "outputs": [
    {
     "name": "stdout",
     "output_type": "stream",
     "text": [
      "['<C>', 'frozenset', 'list', 'Word']\n"
     ]
    },
    {
     "ename": "AssertionError",
     "evalue": "",
     "output_type": "error",
     "traceback": [
      "\u001b[1;31m---------------------------------------------------------------------------\u001b[0m",
      "\u001b[1;31mAssertionError\u001b[0m                            Traceback (most recent call last)",
      "\u001b[1;32mc:\\UniversityProgramming\\MIPT\\Term 1\\MIPT_Python\\seminars\\sem 4\\tasks.ipynb Cell 26\u001b[0m line \u001b[0;36m8\n\u001b[0;32m      <a href='vscode-notebook-cell:/c%3A/UniversityProgramming/MIPT/Term%201/MIPT_Python/seminars/sem%204/tasks.ipynb#X34sZmlsZQ%3D%3D?line=4'>5</a>\u001b[0m valid_pairs \u001b[39m=\u001b[39m [(\u001b[39m\"\u001b[39m\u001b[39m<a>\u001b[39m\u001b[39m\"\u001b[39m, \u001b[39m\"\u001b[39m\u001b[39m</a>\u001b[39m\u001b[39m\"\u001b[39m), (\u001b[39m\"\u001b[39m\u001b[39m<b>\u001b[39m\u001b[39m\"\u001b[39m, \u001b[39m\"\u001b[39m\u001b[39m</b>\u001b[39m\u001b[39m\"\u001b[39m), (\u001b[39m\"\u001b[39m\u001b[39m<c>\u001b[39m\u001b[39m\"\u001b[39m, \u001b[39m\"\u001b[39m\u001b[39m</c>\u001b[39m\u001b[39m\"\u001b[39m)]\n\u001b[0;32m      <a href='vscode-notebook-cell:/c%3A/UniversityProgramming/MIPT/Term%201/MIPT_Python/seminars/sem%204/tasks.ipynb#X34sZmlsZQ%3D%3D?line=6'>7</a>\u001b[0m \u001b[39mprint\u001b[39m(parse(string, valid_pairs))\n\u001b[1;32m----> <a href='vscode-notebook-cell:/c%3A/UniversityProgramming/MIPT/Term%201/MIPT_Python/seminars/sem%204/tasks.ipynb#X34sZmlsZQ%3D%3D?line=7'>8</a>\u001b[0m \u001b[39massert\u001b[39;00m parse(string, valid_pairs) \u001b[39m==\u001b[39m [\u001b[39m\"\u001b[39m\u001b[39mfrozenset\u001b[39m\u001b[39m\"\u001b[39m, \u001b[39m\"\u001b[39m\u001b[39mlist\u001b[39m\u001b[39m\"\u001b[39m, \u001b[39m\"\u001b[39m\u001b[39m<C>\u001b[39m\u001b[39m\"\u001b[39m]\n",
      "\u001b[1;31mAssertionError\u001b[0m: "
     ]
    }
   ],
   "source": [
    "string = (\n",
    "    \"</p><p><a>float</b></p><p><b>frozenset</b><c><C></c>\"\n",
    "    \"</p><p><c>list</c></p><p><b>list</b><a><d><p><c>Word</c><k><l></a>\"\n",
    ")\n",
    "valid_pairs = [(\"<a>\", \"</a>\"), (\"<b>\", \"</b>\"), (\"<c>\", \"</c>\")]\n",
    "\n",
    "print(parse(string, valid_pairs))\n",
    "assert parse(string, valid_pairs) == [\"frozenset\", \"list\", \"<C>\"]"
   ]
  },
  {
   "cell_type": "markdown",
   "metadata": {},
   "source": [
    "## Задача 6: Умная консоль\n",
    "\n",
    "**Условие**:\n",
    "\n",
    "Вы работаете с консолью, которая имеет некий набор команд. Консоль достаточно умная и умеет исправлять ошибки пользователя, если ошибка незначительная. Незначительными считаются ошибки одного из трёх типов:\n",
    "\n",
    "- ввод одного лишнего символа;  \n",
    "- пропуск одного символа;  \n",
    "- один неправильно введенный символ; \n",
    "\n",
    "Притом описанные ошибки не должны вызывать неоднозначность. Так, например комманда \"gt\" с набором команд [cd, ls, git] будет восстановлена до команды git, но та же команда с набором команд [cd, ls, git, get] может соответствовать как команде \"get\", так и команде \"git\" и восстановлена не будет.\n",
    "\n",
    "Если команда написана с незначительной ошибкой, то консоль её автоматически исправляет и выполняет. Реализуйте алгоритм check_comand, который проверяет, выполнит ли консоль с заданным набором команд команду пользователя или нет.\n",
    "\n",
    "**Вход**:\n",
    "\n",
    "- user_comand - строка, команда, введенная пользователем;  \n",
    "- comands - список строк, команды, поддерживаемые консолью;  \n",
    "\n",
    "**Выход**:\n",
    "\n",
    "- булево значение: True, если команда будет выполнена, False - иначе;\n",
    "\n",
    "**Решение:**"
   ]
  },
  {
   "cell_type": "code",
   "execution_count": 209,
   "metadata": {},
   "outputs": [],
   "source": [
    "def levenstein_distance(s1, s2):\n",
    "    m = [[0] * (len(s2)+1) for i in range(len(s1)+1)]\n",
    "    for i in range(len(s2)+1):\n",
    "        m[0][i] = i\n",
    "    for j in range(len(s1)+1):\n",
    "        m[j][0] = j\n",
    "    for i in range(1, len(m)):\n",
    "        for j in range(1, len(m[i])):\n",
    "            m[i][j] = min(m[i-1][j]+1, m[i][j-1]+1, m[i-1][j-1] + (s2[j-1] != s1[i-1]))\n",
    "    return m[-1][-1]\n",
    "def check_comand(user_comand: str, comands: list[str]) -> bool:\n",
    "    distances = [levenstein_distance(user_comand, comands[i]) for i in range(len(comands))]\n",
    "    return distances.count(1) == 1"
   ]
  },
  {
   "cell_type": "markdown",
   "metadata": {},
   "source": [
    "**Тесты:**"
   ]
  },
  {
   "cell_type": "code",
   "execution_count": 210,
   "metadata": {},
   "outputs": [],
   "source": [
    "assert check_comand('gt', ['cd', 'ls', 'git']) \n",
    "assert not check_comand('gt', ['cd', 'ls', 'git', 'get'])"
   ]
  },
  {
   "cell_type": "code",
   "execution_count": null,
   "metadata": {},
   "outputs": [],
   "source": []
  }
 ],
 "metadata": {
  "kernelspec": {
   "display_name": "Python 3",
   "language": "python",
   "name": "python3"
  },
  "language_info": {
   "codemirror_mode": {
    "name": "ipython",
    "version": 3
   },
   "file_extension": ".py",
   "mimetype": "text/x-python",
   "name": "python",
   "nbconvert_exporter": "python",
   "pygments_lexer": "ipython3",
   "version": "3.11.1"
  },
  "orig_nbformat": 4
 },
 "nbformat": 4,
 "nbformat_minor": 2
}
