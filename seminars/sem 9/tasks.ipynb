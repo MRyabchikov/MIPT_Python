{
 "cells": [
  {
   "cell_type": "markdown",
   "metadata": {},
   "source": [
    "# Функции: избранные темы"
   ]
  },
  {
   "cell_type": "markdown",
   "id": "b0b60028",
   "metadata": {},
   "source": [
    "## Вступление: контекстные менеджеры\n",
    "\n",
    "В Python по умолчанию задана некоторая точность вычисления чисел с плавающей точкой, которая, что логично, может отличаться от требуемой для решения конкретной задачи точности. Для пример, будет рассматривать точность вычислений в библиотеке **decimal**.\n",
    "\n",
    "Предположим, нас устраивает точность вычислений по умолчанию в этой библиотеке, но для некоторых расчетов мы бы хотели использовать повышенную или пониженную точность и только для них. Как нам быть? Тут-то нам на помощь и придут контекстные менеджеры.\n",
    "\n",
    "В этом примере мы поговорим о контекстных менеджерах и напишем свой менеджер для установки точности вычислений, которые будет работать примерно так:\n",
    "\n",
    "```python\n",
    "with set_precision(5):\n",
    "    ...\n",
    "```"
   ]
  },
  {
   "cell_type": "code",
   "execution_count": 22,
   "id": "2ee4bd58",
   "metadata": {},
   "outputs": [],
   "source": [
    "from decimal import Decimal, getcontext\n",
    "from contextlib import contextmanager\n",
    "import math\n",
    "\n",
    "@contextmanager\n",
    "def set_precision(n : int):\n",
    "    start_precision = getcontext().prec\n",
    "    getcontext().prec = n\n",
    "    try: \n",
    "        yield\n",
    "    finally:\n",
    "        getcontext().prec = start_precision\n",
    "\n",
    "def exp_row(x, n):\n",
    "    return sum(x**k / math.factorial(k) for k in range(n))"
   ]
  },
  {
   "cell_type": "code",
   "execution_count": 36,
   "metadata": {},
   "outputs": [
    {
     "name": "stdout",
     "output_type": "stream",
     "text": [
      "2.718281828459045235360287471352662497757247093699959574966967627724076630353547594571382178525166427427466391932003059921817413596629043572900334295260595630738132328627943490763233829880753195251019011573834187930702154089149934884167509244761460668082264800168477411853742345442437107539077744992069551702761838606261331384583000752044933826560297606737113200709328709127443747047230696977209310141692836819025515108657463772111252389784425056953696770785449969967946864454905987931636889230098793127736178215424999229576351482208269895193668033182528869398496465105820939239829488793320362509443117301238197068416140397019837679320683282376464804295311802328782509819455815301756717361332069811250996181881593041690351598888519345807273866738589422879228499892086805825749279610484198444363463244968487560233624827041978623209002160990235304369941849146314093431738143640546253152096183690888707016768396424378140592714563549061303107208510383750510115747704171898610687396965521267154688957035044\n"
     ]
    }
   ],
   "source": [
    "n = 1000\n",
    "with set_precision(n):\n",
    "    print(Decimal(exp_row(Decimal(1), n)))"
   ]
  },
  {
   "cell_type": "markdown",
   "id": "47c5cd4e",
   "metadata": {},
   "source": [
    "## Разминка: геометрическая прогрессия\n",
    "\n",
    "Напишите бесконечный генератор геометрической прогрессии. В качестве параметров генератор должен принимать:  \n",
    "- первый член прогрессии\n",
    "- шаг прогрессии"
   ]
  },
  {
   "cell_type": "code",
   "execution_count": 41,
   "id": "1322283c",
   "metadata": {},
   "outputs": [],
   "source": [
    "def geometry_progression_gen(start = 1.0, step = 1.0):\n",
    "    while True:\n",
    "        yield start\n",
    "        start*=step\n",
    "gen = geometry_progression_gen(1, 2)"
   ]
  },
  {
   "cell_type": "code",
   "execution_count": 95,
   "metadata": {},
   "outputs": [
    {
     "data": {
      "text/plain": [
       "9007199254740992"
      ]
     },
     "execution_count": 95,
     "metadata": {},
     "output_type": "execute_result"
    }
   ],
   "source": [
    "next(gen)"
   ]
  },
  {
   "cell_type": "markdown",
   "id": "1b317e5a",
   "metadata": {},
   "source": [
    "## Задание 1: float_range\n",
    "\n",
    "Необходимо создать аналог range(), который генерирует арифметическую прогрессию. Ниже приведены примеры использования:\n",
    "\n",
    "*Пример 1*:\n",
    "\n",
    "```python\n",
    "for i in float_range(stop=5):\n",
    "    print(i)\n",
    "```\n",
    "\n",
    "*Вывод*:\n",
    "```console\n",
    "0\n",
    "1\n",
    "2\n",
    "3\n",
    "4\n",
    "```\n",
    "___\n",
    "*Пример 2*:\n",
    "\n",
    "```python\n",
    "for i in float_range(stop=1, step=0.5):\n",
    "    print(i)\n",
    "```\n",
    "\n",
    "*Вывод*:\n",
    "```console\n",
    "0\n",
    "0.5\n",
    "```\n",
    "___\n",
    "*Пример 3*:\n",
    "\n",
    "```python\n",
    "for i in float_range(start=1, stop=-1, step=-0.5):\n",
    "    print(i)\n",
    "```\n",
    "\n",
    "*Вывод*:\n",
    "```console\n",
    "1\n",
    "0.5\n",
    "0\n",
    "-0.5\n",
    "```"
   ]
  },
  {
   "cell_type": "code",
   "execution_count": 92,
   "id": "c118dd7f",
   "metadata": {},
   "outputs": [],
   "source": [
    "def float_range(start, end, step = 1.0):\n",
    "    if step == 0:\n",
    "        raise ValueError(\"infinite loop\")\n",
    "    while start < end:\n",
    "        yield start\n",
    "        start+=step\n"
   ]
  },
  {
   "cell_type": "code",
   "execution_count": 93,
   "metadata": {},
   "outputs": [
    {
     "name": "stdout",
     "output_type": "stream",
     "text": [
      "1\n",
      "1.5\n",
      "-3.14\n",
      "-3.04\n",
      "-2.94\n",
      "-2.84\n",
      "-2.7399999999999998\n",
      "-2.6399999999999997\n",
      "-2.5399999999999996\n",
      "-2.4399999999999995\n",
      "-2.3399999999999994\n",
      "-2.2399999999999993\n",
      "-2.1399999999999992\n",
      "-2.039999999999999\n",
      "-1.939999999999999\n",
      "-1.839999999999999\n",
      "-1.7399999999999989\n",
      "-1.6399999999999988\n",
      "-1.5399999999999987\n",
      "-1.4399999999999986\n",
      "-1.3399999999999985\n",
      "-1.2399999999999984\n",
      "-1.1399999999999983\n",
      "-1.0399999999999983\n",
      "-0.9399999999999983\n",
      "-0.8399999999999983\n",
      "-0.7399999999999983\n",
      "-0.6399999999999983\n",
      "-0.5399999999999984\n",
      "-0.4399999999999984\n",
      "-0.3399999999999984\n",
      "-0.2399999999999984\n",
      "-0.1399999999999984\n",
      "-0.0399999999999984\n",
      "0.06000000000000161\n",
      "0.1600000000000016\n",
      "0.2600000000000016\n",
      "0.36000000000000165\n",
      "0.46000000000000163\n",
      "0.5600000000000016\n",
      "0.6600000000000016\n",
      "0.7600000000000016\n",
      "0.8600000000000015\n",
      "0.9600000000000015\n",
      "1.0600000000000016\n",
      "1.1600000000000017\n",
      "1.2600000000000018\n",
      "1.3600000000000019\n",
      "1.460000000000002\n",
      "1.560000000000002\n",
      "1.6600000000000021\n",
      "1.7600000000000022\n",
      "1.8600000000000023\n",
      "1.9600000000000024\n",
      "2.0600000000000023\n",
      "2.1600000000000024\n",
      "2.2600000000000025\n",
      "2.3600000000000025\n",
      "2.4600000000000026\n",
      "2.5600000000000027\n",
      "2.660000000000003\n"
     ]
    }
   ],
   "source": [
    "for i in float_range(1, 2, 0.5):\n",
    "    print(i)\n",
    "for i in float_range(-3.14, 2.71, 0.1):\n",
    "    print(i)\n",
    "for i in float_range(1, 1, 3.4):\n",
    "    print(i)"
   ]
  },
  {
   "cell_type": "markdown",
   "id": "0e50efe0",
   "metadata": {},
   "source": [
    "## Задание 2: свой map"
   ]
  },
  {
   "cell_type": "markdown",
   "id": "90231b0d",
   "metadata": {},
   "source": [
    "### Часть 1: копируем map\n",
    "\n",
    "Реализуйте аналог функции map, полностью копирующий ее поведение. Саму map использовать нельзя."
   ]
  },
  {
   "cell_type": "code",
   "execution_count": 46,
   "id": "121c0d82",
   "metadata": {},
   "outputs": [],
   "source": [
    "def my_map(func, *args):\n",
    "    for curr in zip(*args):\n",
    "        yield(func(*curr))"
   ]
  },
  {
   "cell_type": "code",
   "execution_count": 52,
   "metadata": {},
   "outputs": [
    {
     "name": "stdout",
     "output_type": "stream",
     "text": [
      "5 7 9 \n",
      "0 1 4 9 16 25 36 49 64 81 \n",
      "0 -99 -192 -273 -336 "
     ]
    }
   ],
   "source": [
    "for x in my_map(lambda x, y: x+y, [1, 2, 3], [4, 5, 6]):\n",
    "    print(x, end=' ')\n",
    "print()\n",
    "for x in my_map(lambda x: x**2, [x for x in range(10)]):\n",
    "    print(x, end=' ')\n",
    "print()\n",
    "for x in my_map(lambda x, y, z: x*y*z, [x for x in range(10)], [y for y in range(10, 17)], [z for z in range(-10, -5)]):\n",
    "    print(x, end=' ')"
   ]
  },
  {
   "cell_type": "markdown",
   "id": "577e35fc",
   "metadata": {},
   "source": [
    "### Часть 2: дополняем map\n",
    "\n",
    "Добавьте возможность управлять поведением вашего map'a: сделайте так, чтобы map имела возможность не только обрезать последовательности, но и дополнять короткие последовательности до динных. \n",
    "\n",
    "Совет: функция **zip_longest** из библиотеки **itertools** может оказаться полезной."
   ]
  },
  {
   "cell_type": "code",
   "execution_count": 53,
   "id": "0f930faa",
   "metadata": {},
   "outputs": [],
   "source": [
    "from enum import Enum\n",
    "from itertools import zip_longest\n",
    "\n",
    "\n",
    "class MapTypes(Enum):\n",
    "    SHORTEST = 'short'\n",
    "    LONGEST = 'long'\n"
   ]
  },
  {
   "cell_type": "code",
   "execution_count": 56,
   "id": "49b53ae5",
   "metadata": {},
   "outputs": [],
   "source": [
    "def my_map(func, *args, map_type=MapTypes.SHORTEST):\n",
    "    if map_type == MapTypes.SHORTEST:\n",
    "        for curr in zip(*args):\n",
    "            yield(func(*curr))\n",
    "    elif map_type == MapTypes.LONGEST:\n",
    "        for curr in zip_longest(*args):\n",
    "            yield(func(*curr))\n",
    "    "
   ]
  },
  {
   "cell_type": "code",
   "execution_count": 61,
   "metadata": {},
   "outputs": [
    {
     "name": "stdout",
     "output_type": "stream",
     "text": [
      "5 7 9 \n",
      "0 1 4 9 16 25 36 49 64 81 \n",
      "0 -99 -192 -273 -336 \n",
      "2 4 3 "
     ]
    }
   ],
   "source": [
    "def sum_of_not_none(x, y):\n",
    "    x, y = x if x != None else 0, y if y != None else 0\n",
    "    return x+y\n",
    "\n",
    "\n",
    "for x in my_map(lambda x, y: x+y, [1, 2, 3], [4, 5, 6]):\n",
    "    print(x, end=' ')\n",
    "print()\n",
    "for x in my_map(lambda x: x**2, [x for x in range(10)]):\n",
    "    print(x, end=' ')\n",
    "print()\n",
    "for x in my_map(lambda x, y, z: x*y*z, [x for x in range(10)], [y for y in range(10, 17)], [z for z in range(-10, -5)]):\n",
    "    print(x, end=' ')\n",
    "print()\n",
    "for x in my_map(lambda x, y: (x if x != None else 0) + (y if y != None else 0), [1, 2, 3], [1, 2], map_type = MapTypes.LONGEST):\n",
    "    print(x, end=' ')\n"
   ]
  },
  {
   "cell_type": "markdown",
   "id": "1ef76164",
   "metadata": {},
   "source": [
    "## Задание 3: Спиннер"
   ]
  },
  {
   "cell_type": "markdown",
   "id": "a79e62a0",
   "metadata": {},
   "source": [
    "### Часть 1: генератор\n",
    "\n",
    "Напишите функцию, которая на вход получает коллекцию и возвращает генератор, последовательно возвращающий элементы коллекции, а после возврата последнего элемента коллекции очередной вызов генератора приведет к зацикливанию.\n",
    "\n",
    "\n",
    "*Пример*:\n",
    "\n",
    "```python\n",
    "generator = generate_circle('abc')\n",
    "\n",
    "print(next(generator))\n",
    "print(next(generator))\n",
    "print(next(generator))\n",
    "print(next(generator))\n",
    "print(next(generator))\n",
    "```\n",
    "*Вывод*:\n",
    "```console\n",
    "a\n",
    "b\n",
    "c\n",
    "a\n",
    "b\n",
    "```"
   ]
  },
  {
   "cell_type": "code",
   "execution_count": 62,
   "id": "5b1d7d33",
   "metadata": {},
   "outputs": [],
   "source": [
    "def generate_circle(collection):\n",
    "    while True:\n",
    "        for x in collection:\n",
    "            yield x\n",
    "gen = generate_circle('abc')"
   ]
  },
  {
   "cell_type": "code",
   "execution_count": 75,
   "metadata": {},
   "outputs": [
    {
     "data": {
      "text/plain": [
       "'a'"
      ]
     },
     "execution_count": 75,
     "metadata": {},
     "output_type": "execute_result"
    }
   ],
   "source": [
    "next(gen)"
   ]
  },
  {
   "cell_type": "markdown",
   "id": "7eff66b3",
   "metadata": {},
   "source": [
    "### Часть 2: Колесо Сансары\n",
    "\n",
    "Используя генератор из предыдущего раздела, реализуйте функцию, которая отображает на экране спиннер для индикации загрузки.\n",
    "\n",
    "Отрисовка спиннера печатает на экран надпись: Thinking: \\<symbol\\>, где вместо \\<symbol\\> последовательно появляются знаки: \\, |, /, -, что создаёт эффект вращения.\n",
    "\n",
    "Вход функции: \n",
    "- time_limit - время (в секундах), в течение которого должна производиться отрисовка спиннера;\n",
    "- pause - время (в секундах) задержки между сменой символов спиннера;\n",
    "\n",
    "Интересная статья на тему индикаторов: https://dtf.ru/flood/174240-progress-bar-ili-spinner-chto-i-kogda-ispolzovat?ysclid=lorrg51syv550654720"
   ]
  },
  {
   "cell_type": "code",
   "execution_count": 94,
   "id": "eb84de3b",
   "metadata": {},
   "outputs": [],
   "source": [
    "import time\n",
    "circle_gen = generate_circle('\\|/-')\n",
    "def SansaraCircle(time_limit = 2.0, pause = 0.5):\n",
    "    start = time.time()\n",
    "    while time.time() - start <= time_limit:\n",
    "        print(f'\\rThinking {next(circle_gen)}', end='')\n",
    "        time.sleep(pause)\n",
    "    \n",
    "    "
   ]
  },
  {
   "cell_type": "code",
   "execution_count": 95,
   "metadata": {},
   "outputs": [
    {
     "name": "stdout",
     "output_type": "stream",
     "text": [
      "Thinking |"
     ]
    },
    {
     "ename": "KeyboardInterrupt",
     "evalue": "",
     "output_type": "error",
     "traceback": [
      "\u001b[1;31m---------------------------------------------------------------------------\u001b[0m",
      "\u001b[1;31mKeyboardInterrupt\u001b[0m                         Traceback (most recent call last)",
      "\u001b[1;32mc:\\UniversityProgramming\\MIPT\\Term-1\\MIPT_Python\\seminars\\sem9\\tasks.ipynb Cell 25\u001b[0m line \u001b[0;36m1\n\u001b[1;32m----> <a href='vscode-notebook-cell:/c%3A/UniversityProgramming/MIPT/Term-1/MIPT_Python/seminars/sem9/tasks.ipynb#X33sZmlsZQ%3D%3D?line=0'>1</a>\u001b[0m SansaraCircle(\u001b[39m10\u001b[39;49m, \u001b[39m0.5\u001b[39;49m)\n",
      "\u001b[1;32mc:\\UniversityProgramming\\MIPT\\Term-1\\MIPT_Python\\seminars\\sem9\\tasks.ipynb Cell 25\u001b[0m line \u001b[0;36m7\n\u001b[0;32m      <a href='vscode-notebook-cell:/c%3A/UniversityProgramming/MIPT/Term-1/MIPT_Python/seminars/sem9/tasks.ipynb#X33sZmlsZQ%3D%3D?line=4'>5</a>\u001b[0m \u001b[39mwhile\u001b[39;00m time\u001b[39m.\u001b[39mtime() \u001b[39m-\u001b[39m start \u001b[39m<\u001b[39m\u001b[39m=\u001b[39m time_limit:\n\u001b[0;32m      <a href='vscode-notebook-cell:/c%3A/UniversityProgramming/MIPT/Term-1/MIPT_Python/seminars/sem9/tasks.ipynb#X33sZmlsZQ%3D%3D?line=5'>6</a>\u001b[0m     \u001b[39mprint\u001b[39m(\u001b[39mf\u001b[39m\u001b[39m'\u001b[39m\u001b[39m\\r\u001b[39;00m\u001b[39mThinking \u001b[39m\u001b[39m{\u001b[39;00m\u001b[39mnext\u001b[39m(circle_gen)\u001b[39m}\u001b[39;00m\u001b[39m'\u001b[39m, end\u001b[39m=\u001b[39m\u001b[39m'\u001b[39m\u001b[39m'\u001b[39m)\n\u001b[1;32m----> <a href='vscode-notebook-cell:/c%3A/UniversityProgramming/MIPT/Term-1/MIPT_Python/seminars/sem9/tasks.ipynb#X33sZmlsZQ%3D%3D?line=6'>7</a>\u001b[0m     time\u001b[39m.\u001b[39;49msleep(pause)\n",
      "\u001b[1;31mKeyboardInterrupt\u001b[0m: "
     ]
    }
   ],
   "source": [
    "SansaraCircle(10, 0.5)"
   ]
  },
  {
   "cell_type": "code",
   "execution_count": null,
   "metadata": {},
   "outputs": [],
   "source": []
  }
 ],
 "metadata": {
  "kernelspec": {
   "display_name": "Python 3 (ipykernel)",
   "language": "python",
   "name": "python3"
  },
  "language_info": {
   "codemirror_mode": {
    "name": "ipython",
    "version": 3
   },
   "file_extension": ".py",
   "mimetype": "text/x-python",
   "name": "python",
   "nbconvert_exporter": "python",
   "pygments_lexer": "ipython3",
   "version": "3.11.1"
  },
  "toc": {
   "base_numbering": 1,
   "nav_menu": {},
   "number_sections": true,
   "sideBar": true,
   "skip_h1_title": false,
   "title_cell": "Table of Contents",
   "title_sidebar": "Contents",
   "toc_cell": false,
   "toc_position": {},
   "toc_section_display": true,
   "toc_window_display": false
  }
 },
 "nbformat": 4,
 "nbformat_minor": 5
}
