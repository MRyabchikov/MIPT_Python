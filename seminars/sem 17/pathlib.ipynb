{
  "cells": [
    {
      "cell_type": "code",
      "execution_count": 2,
      "metadata": {
        "id": "BXa2iaRRqmxI"
      },
      "outputs": [],
      "source": [
        "import pathlib"
      ]
    },
    {
      "cell_type": "markdown",
      "metadata": {
        "id": "aCunz-xnAMds"
      },
      "source": [
        "Модуль pathlib упрощает работу с путями и файлами. Позволяет создавать, изменять, удалять и переименововать файлы. Проводить различные операции с путями и получать инофрмацию о них. Проводить проверки на наличие файлов и директорий и т.д. "
      ]
    },
    {
      "cell_type": "markdown",
      "metadata": {
        "id": "phKm_pgjA-0q"
      },
      "source": [
        "# Создание путей"
      ]
    },
    {
      "cell_type": "code",
      "execution_count": 2,
      "metadata": {
        "colab": {
          "base_uri": "https://localhost:8080/"
        },
        "id": "klgzqfCEA5k9",
        "outputId": "efc8ba01-ad4b-41bf-d23c-0e5500191da9"
      },
      "outputs": [
        {
          "name": "stdout",
          "output_type": "stream",
          "text": [
            "c:\\UniversityProgramming\\MIPT\\Term-1\\MIPT_Python\\seminars\\sem 17\n",
            "C:\\Users\\mryab\n"
          ]
        }
      ],
      "source": [
        "current_dir = pathlib.Path.cwd() # Возвращает путь объекта директории в которой мы сейчас находимся\n",
        "home_dir = pathlib.Path.home() # Возвращает путь объекта домашней директории\n",
        "\n",
        "print(current_dir)\n",
        "print(home_dir)"
      ]
    },
    {
      "cell_type": "code",
      "execution_count": 3,
      "metadata": {
        "colab": {
          "base_uri": "https://localhost:8080/"
        },
        "id": "uEZo7ccQBoj5",
        "outputId": "4dce9810-cdf5-4ca3-bc59-b3f4cf74d436"
      },
      "outputs": [
        {
          "name": "stdout",
          "output_type": "stream",
          "text": [
            "c:\\UniversityProgramming\\MIPT\\Term-1\\MIPT_Python\\seminars\\sem 17\\output\\output.xlsx\n"
          ]
        }
      ],
      "source": [
        "outpath = pathlib.Path.cwd() / 'output' / 'output.xlsx' # / оператор объединения частей пути в составной путь\n",
        "print(outpath)"
      ]
    },
    {
      "cell_type": "markdown",
      "metadata": {
        "id": "JEAzTAe1CLeb"
      },
      "source": [
        "Засчет перегрузки оператора / код становится понятным и читабельным."
      ]
    },
    {
      "cell_type": "markdown",
      "metadata": {
        "id": "CJKnl2ByDKDU"
      },
      "source": [
        "Пример такой же операции в другой python библиотеке."
      ]
    },
    {
      "cell_type": "code",
      "execution_count": 3,
      "metadata": {
        "colab": {
          "base_uri": "https://localhost:8080/"
        },
        "id": "PKEvnXTUDVaS",
        "outputId": "b50b2447-af4d-414e-a9df-3884b15efc55"
      },
      "outputs": [
        {
          "name": "stdout",
          "output_type": "stream",
          "text": [
            "c:\\UniversityProgramming\\MIPT\\Term-1\\MIPT_Python\\seminars\\sem 17\\output\\out.xlsx\n"
          ]
        }
      ],
      "source": [
        "import os\n",
        "outpath_file = os.path.join(os.path.join(os.getcwd(), 'output'), \"out.xlsx\")\n",
        "print(outpath_file)"
      ]
    },
    {
      "cell_type": "markdown",
      "metadata": {
        "id": "l3erPixxD72Y"
      },
      "source": [
        "Также важная особенность библиотеки pathlib, то что вместо представлении пути в виде обычной строки он создает отдельный объект Path, что позволяет использовать различные методы заранее прописанные в объекте Path и перегрузку оператора. "
      ]
    },
    {
      "cell_type": "code",
      "execution_count": 5,
      "metadata": {
        "colab": {
          "base_uri": "https://localhost:8080/"
        },
        "id": "ntSYKBboCFwd",
        "outputId": "b0000ef6-3f63-43ce-db85-75b4dabab83a"
      },
      "outputs": [
        {
          "data": {
            "text/plain": [
              "pathlib.WindowsPath"
            ]
          },
          "execution_count": 5,
          "metadata": {},
          "output_type": "execute_result"
        }
      ],
      "source": [
        "type(outpath)"
      ]
    },
    {
      "cell_type": "markdown",
      "metadata": {
        "id": "asYszzq5JI8M"
      },
      "source": [
        "Способы инициализации класса Path."
      ]
    },
    {
      "cell_type": "code",
      "execution_count": 6,
      "metadata": {
        "colab": {
          "base_uri": "https://localhost:8080/"
        },
        "id": "t3Nv4EhaHohO",
        "outputId": "4d1735d6-22bb-4f56-9cb4-1c486e615e34"
      },
      "outputs": [
        {
          "name": "stdout",
          "output_type": "stream",
          "text": [
            "shelter\\dog\n",
            "shelter\\dog\\doberman\n",
            "C:\\Users\\mryab\\animals\\shelter\\dog\\doberman\n"
          ]
        }
      ],
      "source": [
        "animal = pathlib.Path('shelter', 'dog') # При помощи строк\n",
        "print(animal)\n",
        "\n",
        "animal = pathlib.Path(animal, 'doberman') # При помощи строк и объектов Path\n",
        "print(animal)\n",
        "\n",
        "animal = pathlib.Path(pathlib.Path.home(), 'animals', animal)\n",
        "print(animal)"
      ]
    },
    {
      "cell_type": "markdown",
      "metadata": {
        "id": "OoAT5GpbEwXZ"
      },
      "source": [
        "# Параметры пути."
      ]
    },
    {
      "cell_type": "code",
      "execution_count": 7,
      "metadata": {
        "colab": {
          "base_uri": "https://localhost:8080/"
        },
        "id": "c1qo4D3vCX65",
        "outputId": "7a0a05cf-a867-4942-807a-5d759b5b05d9"
      },
      "outputs": [
        {
          "name": "stdout",
          "output_type": "stream",
          "text": [
            "c:\\UniversityProgramming\\MIPT\\Term-1\\MIPT_Python\\seminars\\sem 17\\apps\\python.exe\n",
            "python.exe\n",
            ".exe\n"
          ]
        }
      ],
      "source": [
        "python_path = pathlib.Path(pathlib.Path().cwd(), 'apps', 'python.exe')\n",
        "print(python_path)\n",
        "print(python_path.name) # Возвращает имя файла\n",
        "print(python_path.suffix) # Возвращяет тип файла"
      ]
    },
    {
      "cell_type": "code",
      "execution_count": 9,
      "metadata": {
        "colab": {
          "base_uri": "https://localhost:8080/"
        },
        "id": "iHigMrCHLghb",
        "outputId": "893095a9-5371-4cfd-bb39-855607bc0d03"
      },
      "outputs": [
        {
          "name": "stdout",
          "output_type": "stream",
          "text": [
            "c:\\UniversityProgramming\\MIPT\\Term-1\\MIPT_Python\\seminars\\sem 17\\apps\\python.exe\n",
            "c:\\UniversityProgramming\\MIPT\\Term-1\\MIPT_Python\\seminars\\sem 17\\apps\\java.exe\n",
            "c:\\UniversityProgramming\\MIPT\\Term-1\\MIPT_Python\\seminars\\sem 17\\apps\\python.apk\n"
          ]
        }
      ],
      "source": [
        "java_path = python_path.with_name('java.exe') # Изменяет название файла\n",
        "apk_path = python_path.with_suffix('.apk') # Изменяет тип файла\n",
        "print(python_path)\n",
        "print(java_path)\n",
        "print(apk_path)"
      ]
    },
    {
      "cell_type": "code",
      "execution_count": 10,
      "metadata": {
        "colab": {
          "base_uri": "https://localhost:8080/"
        },
        "id": "ARohd-8MMFKB",
        "outputId": "a420e800-e3b5-4d4e-d9bf-01b7159e6cec"
      },
      "outputs": [
        {
          "name": "stdout",
          "output_type": "stream",
          "text": [
            "c:\\UniversityProgramming\\MIPT\\Term-1\\MIPT_Python\\seminars\\sem 17\\apps\n",
            "c:\\UniversityProgramming\\MIPT\\Term-1\\MIPT_Python\\seminars\\sem 17\n"
          ]
        }
      ],
      "source": [
        "print(python_path.parent) # Возвращает родителя файла или директории (Поднимается на уровень выше)\n",
        "print(python_path.parent.parent)"
      ]
    },
    {
      "cell_type": "markdown",
      "metadata": {
        "id": "mAOFFx_Kth_h"
      },
      "source": [
        "# Работа с файлами и директориями"
      ]
    },
    {
      "cell_type": "markdown",
      "metadata": {},
      "source": []
    },
    {
      "cell_type": "code",
      "execution_count": 12,
      "metadata": {
        "id": "Ydgpgj7Bz37_"
      },
      "outputs": [],
      "source": [
        "import zipfile\n",
        "with zipfile.ZipFile('tasks.zip', 'r') as zip_ref:\n",
        "    zip_ref.extractall('')"
      ]
    },
    {
      "cell_type": "code",
      "execution_count": 12,
      "metadata": {
        "colab": {
          "base_uri": "https://localhost:8080/"
        },
        "id": "9dirQ4z7tnhs",
        "outputId": "bccedb37-9c2f-493b-8c19-f3a8ff7bd5a1"
      },
      "outputs": [
        {
          "name": "stdout",
          "output_type": "stream",
          "text": [
            "c:\\UniversityProgramming\\MIPT\\Term-1\\MIPT_Python\\seminars\\sem 17\\ocean\n",
            "c:\\UniversityProgramming\\MIPT\\Term-1\\MIPT_Python\\seminars\\sem 17\\ocean.zip\n",
            "c:\\UniversityProgramming\\MIPT\\Term-1\\MIPT_Python\\seminars\\sem 17\\pathlib.ipynb\n",
            "c:\\UniversityProgramming\\MIPT\\Term-1\\MIPT_Python\\seminars\\sem 17\\tasks\n",
            "c:\\UniversityProgramming\\MIPT\\Term-1\\MIPT_Python\\seminars\\sem 17\\tasks.zip\n"
          ]
        }
      ],
      "source": [
        "for child in pathlib.Path().cwd().iterdir(): #Создает генератор, который возвращает пути всех файлов и директорий содержашихся в конкретной директории\n",
        "  print(child)"
      ]
    },
    {
      "cell_type": "code",
      "execution_count": 13,
      "metadata": {
        "colab": {
          "base_uri": "https://localhost:8080/"
        },
        "id": "zy0MikiRtqaX",
        "outputId": "2a8773cd-9d64-477a-8948-20aa7394d82b"
      },
      "outputs": [
        {
          "name": "stdout",
          "output_type": "stream",
          "text": [
            "True\n",
            "False\n"
          ]
        }
      ],
      "source": [
        "print(pathlib.Path('ocean', 'tides.txt').exists()) # Проверка содержится ли файл в директории \n",
        "print(pathlib.Path('ocean', 'tide.txt').exists())"
      ]
    },
    {
      "cell_type": "code",
      "execution_count": 14,
      "metadata": {
        "id": "9SUMlQZ5t-_8"
      },
      "outputs": [
        {
          "ename": "FileExistsError",
          "evalue": "[WinError 183] Невозможно создать файл, так как он уже существует: 'c:\\\\UniversityProgramming\\\\MIPT\\\\Term-1\\\\MIPT_Python\\\\seminars\\\\sem 17\\\\ocean\\\\plants'",
          "output_type": "error",
          "traceback": [
            "\u001b[1;31m---------------------------------------------------------------------------\u001b[0m",
            "\u001b[1;31mFileExistsError\u001b[0m                           Traceback (most recent call last)",
            "Cell \u001b[1;32mIn[14], line 3\u001b[0m\n\u001b[0;32m      1\u001b[0m cur_path \u001b[38;5;241m=\u001b[39m pathlib\u001b[38;5;241m.\u001b[39mPath()\u001b[38;5;241m.\u001b[39mcwd()\n\u001b[0;32m      2\u001b[0m new_dir \u001b[38;5;241m=\u001b[39m cur_path \u001b[38;5;241m/\u001b[39m \u001b[38;5;124m'\u001b[39m\u001b[38;5;124mocean\u001b[39m\u001b[38;5;124m'\u001b[39m \u001b[38;5;241m/\u001b[39m \u001b[38;5;124m'\u001b[39m\u001b[38;5;124mplants\u001b[39m\u001b[38;5;124m'\u001b[39m\n\u001b[1;32m----> 3\u001b[0m \u001b[43mnew_dir\u001b[49m\u001b[38;5;241;43m.\u001b[39;49m\u001b[43mmkdir\u001b[49m\u001b[43m(\u001b[49m\u001b[43m)\u001b[49m \u001b[38;5;66;03m# Создает пустую папку\u001b[39;00m\n",
            "File \u001b[1;32mc:\\Users\\mryab\\AppData\\Local\\Programs\\Python\\Python311\\Lib\\pathlib.py:1116\u001b[0m, in \u001b[0;36mPath.mkdir\u001b[1;34m(self, mode, parents, exist_ok)\u001b[0m\n\u001b[0;32m   1112\u001b[0m \u001b[38;5;250m\u001b[39m\u001b[38;5;124;03m\"\"\"\u001b[39;00m\n\u001b[0;32m   1113\u001b[0m \u001b[38;5;124;03mCreate a new directory at this given path.\u001b[39;00m\n\u001b[0;32m   1114\u001b[0m \u001b[38;5;124;03m\"\"\"\u001b[39;00m\n\u001b[0;32m   1115\u001b[0m \u001b[38;5;28;01mtry\u001b[39;00m:\n\u001b[1;32m-> 1116\u001b[0m     \u001b[43mos\u001b[49m\u001b[38;5;241;43m.\u001b[39;49m\u001b[43mmkdir\u001b[49m\u001b[43m(\u001b[49m\u001b[38;5;28;43mself\u001b[39;49m\u001b[43m,\u001b[49m\u001b[43m \u001b[49m\u001b[43mmode\u001b[49m\u001b[43m)\u001b[49m\n\u001b[0;32m   1117\u001b[0m \u001b[38;5;28;01mexcept\u001b[39;00m \u001b[38;5;167;01mFileNotFoundError\u001b[39;00m:\n\u001b[0;32m   1118\u001b[0m     \u001b[38;5;28;01mif\u001b[39;00m \u001b[38;5;129;01mnot\u001b[39;00m parents \u001b[38;5;129;01mor\u001b[39;00m \u001b[38;5;28mself\u001b[39m\u001b[38;5;241m.\u001b[39mparent \u001b[38;5;241m==\u001b[39m \u001b[38;5;28mself\u001b[39m:\n",
            "\u001b[1;31mFileExistsError\u001b[0m: [WinError 183] Невозможно создать файл, так как он уже существует: 'c:\\\\UniversityProgramming\\\\MIPT\\\\Term-1\\\\MIPT_Python\\\\seminars\\\\sem 17\\\\ocean\\\\plants'"
          ]
        }
      ],
      "source": [
        "cur_path = pathlib.Path().cwd()\n",
        "new_dir = cur_path / 'ocean' / 'plants'\n",
        "new_dir.mkdir() # Создает пустую папку"
      ]
    },
    {
      "cell_type": "code",
      "execution_count": 20,
      "metadata": {
        "id": "xxtL_z5Gwymy"
      },
      "outputs": [],
      "source": [
        "new_file = new_dir / 'laminaria.txt'\n",
        "new_file.touch() # Создает пустой файл"
      ]
    },
    {
      "cell_type": "code",
      "execution_count": 15,
      "metadata": {
        "colab": {
          "base_uri": "https://localhost:8080/"
        },
        "id": "SMdiMzTYxNej",
        "outputId": "85ee4f9b-30d4-46b9-b771-e308017b87d7"
      },
      "outputs": [
        {
          "ename": "FileNotFoundError",
          "evalue": "[WinError 2] Не удается найти указанный файл: 'c:\\\\UniversityProgramming\\\\MIPT\\\\Term-1\\\\MIPT_Python\\\\seminars\\\\sem 17\\\\ocean\\\\animal\\\\fish\\\\shark.txt' -> 'c:\\\\UniversityProgramming\\\\MIPT\\\\Term-1\\\\MIPT_Python\\\\seminars\\\\sem 17\\\\ocean\\\\animal\\\\fish\\\\dolphin.txt'",
          "output_type": "error",
          "traceback": [
            "\u001b[1;31m---------------------------------------------------------------------------\u001b[0m",
            "\u001b[1;31mFileNotFoundError\u001b[0m                         Traceback (most recent call last)",
            "Cell \u001b[1;32mIn[15], line 3\u001b[0m\n\u001b[0;32m      1\u001b[0m old_name \u001b[38;5;241m=\u001b[39m pathlib\u001b[38;5;241m.\u001b[39mPath()\u001b[38;5;241m.\u001b[39mcwd() \u001b[38;5;241m/\u001b[39m \u001b[38;5;124m'\u001b[39m\u001b[38;5;124mocean\u001b[39m\u001b[38;5;124m'\u001b[39m \u001b[38;5;241m/\u001b[39m \u001b[38;5;124m'\u001b[39m\u001b[38;5;124manimal\u001b[39m\u001b[38;5;124m'\u001b[39m \u001b[38;5;241m/\u001b[39m \u001b[38;5;124m'\u001b[39m\u001b[38;5;124mfish\u001b[39m\u001b[38;5;124m'\u001b[39m \u001b[38;5;241m/\u001b[39m \u001b[38;5;124m'\u001b[39m\u001b[38;5;124mshark.txt\u001b[39m\u001b[38;5;124m'\u001b[39m\n\u001b[0;32m      2\u001b[0m new_name \u001b[38;5;241m=\u001b[39m pathlib\u001b[38;5;241m.\u001b[39mPath()\u001b[38;5;241m.\u001b[39mcwd() \u001b[38;5;241m/\u001b[39m \u001b[38;5;124m'\u001b[39m\u001b[38;5;124mocean\u001b[39m\u001b[38;5;124m'\u001b[39m \u001b[38;5;241m/\u001b[39m \u001b[38;5;124m'\u001b[39m\u001b[38;5;124manimal\u001b[39m\u001b[38;5;124m'\u001b[39m \u001b[38;5;241m/\u001b[39m \u001b[38;5;124m'\u001b[39m\u001b[38;5;124mfish\u001b[39m\u001b[38;5;124m'\u001b[39m \u001b[38;5;241m/\u001b[39m \u001b[38;5;124m'\u001b[39m\u001b[38;5;124mdolphin.txt\u001b[39m\u001b[38;5;124m'\u001b[39m\n\u001b[1;32m----> 3\u001b[0m \u001b[43mold_name\u001b[49m\u001b[38;5;241;43m.\u001b[39;49m\u001b[43mrename\u001b[49m\u001b[43m(\u001b[49m\u001b[43mnew_name\u001b[49m\u001b[43m)\u001b[49m \u001b[38;5;66;03m# Меняет название файла\u001b[39;00m\n",
            "File \u001b[1;32mc:\\Users\\mryab\\AppData\\Local\\Programs\\Python\\Python311\\Lib\\pathlib.py:1175\u001b[0m, in \u001b[0;36mPath.rename\u001b[1;34m(self, target)\u001b[0m\n\u001b[0;32m   1165\u001b[0m \u001b[38;5;28;01mdef\u001b[39;00m \u001b[38;5;21mrename\u001b[39m(\u001b[38;5;28mself\u001b[39m, target):\n\u001b[0;32m   1166\u001b[0m \u001b[38;5;250m    \u001b[39m\u001b[38;5;124;03m\"\"\"\u001b[39;00m\n\u001b[0;32m   1167\u001b[0m \u001b[38;5;124;03m    Rename this path to the target path.\u001b[39;00m\n\u001b[0;32m   1168\u001b[0m \n\u001b[1;32m   (...)\u001b[0m\n\u001b[0;32m   1173\u001b[0m \u001b[38;5;124;03m    Returns the new Path instance pointing to the target path.\u001b[39;00m\n\u001b[0;32m   1174\u001b[0m \u001b[38;5;124;03m    \"\"\"\u001b[39;00m\n\u001b[1;32m-> 1175\u001b[0m     \u001b[43mos\u001b[49m\u001b[38;5;241;43m.\u001b[39;49m\u001b[43mrename\u001b[49m\u001b[43m(\u001b[49m\u001b[38;5;28;43mself\u001b[39;49m\u001b[43m,\u001b[49m\u001b[43m \u001b[49m\u001b[43mtarget\u001b[49m\u001b[43m)\u001b[49m\n\u001b[0;32m   1176\u001b[0m     \u001b[38;5;28;01mreturn\u001b[39;00m \u001b[38;5;28mself\u001b[39m\u001b[38;5;241m.\u001b[39m\u001b[38;5;18m__class__\u001b[39m(target)\n",
            "\u001b[1;31mFileNotFoundError\u001b[0m: [WinError 2] Не удается найти указанный файл: 'c:\\\\UniversityProgramming\\\\MIPT\\\\Term-1\\\\MIPT_Python\\\\seminars\\\\sem 17\\\\ocean\\\\animal\\\\fish\\\\shark.txt' -> 'c:\\\\UniversityProgramming\\\\MIPT\\\\Term-1\\\\MIPT_Python\\\\seminars\\\\sem 17\\\\ocean\\\\animal\\\\fish\\\\dolphin.txt'"
          ]
        }
      ],
      "source": [
        "old_name = pathlib.Path().cwd() / 'ocean' / 'animal' / 'fish' / 'shark.txt'\n",
        "new_name = pathlib.Path().cwd() / 'ocean' / 'animal' / 'fish' / 'dolphin.txt'\n",
        "old_name.rename(new_name) # Меняет название файла"
      ]
    },
    {
      "cell_type": "code",
      "execution_count": 16,
      "metadata": {
        "id": "KZ3ApCqVyqYH"
      },
      "outputs": [],
      "source": [
        "trash_dir = pathlib.Path().cwd() / 'trash'\n",
        "trash_dir.mkdir()\n",
        "trash_file = trash_dir /'trash.txt'\n",
        "trash_file.touch()"
      ]
    },
    {
      "cell_type": "code",
      "execution_count": 17,
      "metadata": {
        "colab": {
          "base_uri": "https://localhost:8080/",
          "height": 294
        },
        "id": "nrbQUkcgziPI",
        "outputId": "35fb9bf7-dc60-49db-b57b-dce0b315f730"
      },
      "outputs": [
        {
          "ename": "OSError",
          "evalue": "[WinError 145] Папка не пуста: 'c:\\\\UniversityProgramming\\\\MIPT\\\\Term-1\\\\MIPT_Python\\\\seminars\\\\sem 17\\\\trash'",
          "output_type": "error",
          "traceback": [
            "\u001b[1;31m---------------------------------------------------------------------------\u001b[0m",
            "\u001b[1;31mOSError\u001b[0m                                   Traceback (most recent call last)",
            "Cell \u001b[1;32mIn[17], line 1\u001b[0m\n\u001b[1;32m----> 1\u001b[0m \u001b[43mtrash_dir\u001b[49m\u001b[38;5;241;43m.\u001b[39;49m\u001b[43mrmdir\u001b[49m\u001b[43m(\u001b[49m\u001b[43m)\u001b[49m\n",
            "File \u001b[1;32mc:\\Users\\mryab\\AppData\\Local\\Programs\\Python\\Python311\\Lib\\pathlib.py:1156\u001b[0m, in \u001b[0;36mPath.rmdir\u001b[1;34m(self)\u001b[0m\n\u001b[0;32m   1152\u001b[0m \u001b[38;5;28;01mdef\u001b[39;00m \u001b[38;5;21mrmdir\u001b[39m(\u001b[38;5;28mself\u001b[39m):\n\u001b[0;32m   1153\u001b[0m \u001b[38;5;250m    \u001b[39m\u001b[38;5;124;03m\"\"\"\u001b[39;00m\n\u001b[0;32m   1154\u001b[0m \u001b[38;5;124;03m    Remove this directory.  The directory must be empty.\u001b[39;00m\n\u001b[0;32m   1155\u001b[0m \u001b[38;5;124;03m    \"\"\"\u001b[39;00m\n\u001b[1;32m-> 1156\u001b[0m     \u001b[43mos\u001b[49m\u001b[38;5;241;43m.\u001b[39;49m\u001b[43mrmdir\u001b[49m\u001b[43m(\u001b[49m\u001b[38;5;28;43mself\u001b[39;49m\u001b[43m)\u001b[49m\n",
            "\u001b[1;31mOSError\u001b[0m: [WinError 145] Папка не пуста: 'c:\\\\UniversityProgramming\\\\MIPT\\\\Term-1\\\\MIPT_Python\\\\seminars\\\\sem 17\\\\trash'"
          ]
        }
      ],
      "source": [
        "trash_dir.rmdir()"
      ]
    },
    {
      "cell_type": "code",
      "execution_count": 18,
      "metadata": {
        "id": "qonZDZHFzqqg"
      },
      "outputs": [],
      "source": [
        "trash_file.unlink()"
      ]
    },
    {
      "cell_type": "code",
      "execution_count": 19,
      "metadata": {
        "id": "OOvNs3A8zxSf"
      },
      "outputs": [],
      "source": [
        "trash_dir.rmdir()"
      ]
    },
    {
      "cell_type": "code",
      "execution_count": 5,
      "metadata": {
        "id": "PcEslID5AToP"
      },
      "outputs": [],
      "source": [
        "import shutil"
      ]
    },
    {
      "cell_type": "code",
      "execution_count": 21,
      "metadata": {
        "colab": {
          "base_uri": "https://localhost:8080/",
          "height": 35
        },
        "id": "Ts3afD0_Auyc",
        "outputId": "48bc52fa-9f4c-4d00-de93-2e2de00e8701"
      },
      "outputs": [
        {
          "data": {
            "text/plain": [
              "'ocean\\\\laminaria.txt'"
            ]
          },
          "execution_count": 21,
          "metadata": {},
          "output_type": "execute_result"
        }
      ],
      "source": [
        "shutil.copy(pathlib.Path('ocean', 'plants', 'laminaria.txt'), pathlib.Path('ocean'))"
      ]
    },
    {
      "cell_type": "markdown",
      "metadata": {
        "id": "Obgaj41brk43"
      },
      "source": [
        "# Методы glob и rglob"
      ]
    },
    {
      "cell_type": "code",
      "execution_count": 22,
      "metadata": {
        "colab": {
          "base_uri": "https://localhost:8080/"
        },
        "id": "c6XmXmbejqic",
        "outputId": "7a558ea3-6638-451e-d02f-5dbd130a44b1"
      },
      "outputs": [
        {
          "name": "stdout",
          "output_type": "stream",
          "text": [
            "ocean\\laminaria.txt\n",
            "ocean\\tides.txt\n",
            "ocean\\wave.txt\n"
          ]
        }
      ],
      "source": [
        "for txt_path in pathlib.Path(\"ocean\").glob(\"*.txt\"):\n",
        "    print(txt_path)"
      ]
    },
    {
      "cell_type": "code",
      "execution_count": 23,
      "metadata": {
        "colab": {
          "base_uri": "https://localhost:8080/"
        },
        "id": "oavskwTgsk_N",
        "outputId": "a8a6c0c7-a3a7-4529-9beb-b30fc9985ec5"
      },
      "outputs": [
        {
          "name": "stdout",
          "output_type": "stream",
          "text": [
            "ocean\\laminaria.txt\n",
            "ocean\\tides.txt\n",
            "ocean\\wave.txt\n",
            "ocean\\animal\\fish\\dolphin.txt\n",
            "ocean\\plants\\laminaria.txt\n"
          ]
        }
      ],
      "source": [
        "for txt_path in pathlib.Path(\"ocean\").glob(\"**/*.txt\"):\n",
        "    print(txt_path)"
      ]
    },
    {
      "cell_type": "code",
      "execution_count": 31,
      "metadata": {
        "colab": {
          "base_uri": "https://localhost:8080/"
        },
        "id": "Ce03oAhm0T2V",
        "outputId": "5ac06728-6407-4b95-87f9-30f7564e4d88"
      },
      "outputs": [
        {
          "name": "stdout",
          "output_type": "stream",
          "text": [
            "ocean\\laminaria.txt\n",
            "ocean\\tides.txt\n",
            "ocean\\wave.txt\n",
            "ocean\\animal\\fish\\dolphin.txt\n",
            "ocean\\plants\\laminaria.txt\n"
          ]
        }
      ],
      "source": [
        "for txt_path in pathlib.Path(\"ocean\").rglob(\"*.txt\"):\n",
        "    print(txt_path)"
      ]
    },
    {
      "cell_type": "markdown",
      "metadata": {
        "id": "nea1iAwy06K3"
      },
      "source": [
        "# Задачи"
      ]
    },
    {
      "cell_type": "markdown",
      "metadata": {
        "id": "UDnrKdLK1Ht3"
      },
      "source": [
        "1.Рассортировать все файлы по типу.\n",
        "\n",
        "2.Удалить папку и все элементы содержащиеся в ней.\n",
        "\n",
        "3.Произвести копирование папки.\n"
      ]
    },
    {
      "cell_type": "code",
      "execution_count": 24,
      "metadata": {
        "id": "9gYKlMLm-1pW"
      },
      "outputs": [
        {
          "data": {
            "text/plain": [
              "WindowsPath('c:/UniversityProgramming/MIPT/Term-1/MIPT_Python/seminars/sem 17')"
            ]
          },
          "execution_count": 24,
          "metadata": {},
          "output_type": "execute_result"
        }
      ],
      "source": [
        "pathlib.Path(\"tasks\").cwd()\n"
      ]
    },
    {
      "cell_type": "code",
      "execution_count": 13,
      "metadata": {},
      "outputs": [],
      "source": [
        "for child in pathlib.Path(\"tasks/task1/all\").iterdir(): #Создает генератор, который возвращает пути всех файлов и директорий содержашихся в конкретной директории\n",
        "  if child.suffix in ['.png', '.jpeg']:\n",
        "    shutil.copy(child, pathlib.Path('tasks', 'task1', 'images(png, jpeg)'))\n",
        "    child.unlink()\n",
        "  if child.suffix in ['.xls', '.xlsx', '.csv']:\n",
        "    shutil.copy(child, pathlib.Path('tasks', 'task1', 'sheets(xls, xlsx, csv)'))\n",
        "    child.unlink()\n",
        "  if child.suffix in ['.txt', '.doc', '.docx']:\n",
        "    shutil.copy(child, pathlib.Path('tasks', 'task1', 'texts(txt, doc, docx)'))\n",
        "    child.unlink()"
      ]
    },
    {
      "cell_type": "code",
      "execution_count": 15,
      "metadata": {},
      "outputs": [
        {
          "name": "stdout",
          "output_type": "stream",
          "text": [
            "c:\\UniversityProgramming\\MIPT\\Term-1\\MIPT_Python\\seminars\\sem 17\\tasks\\task2\\home\n",
            "c:\\UniversityProgramming\\MIPT\\Term-1\\MIPT_Python\\seminars\\sem 17\\tasks\\task2\\home\\0ZWYPL13\n",
            "c:\\UniversityProgramming\\MIPT\\Term-1\\MIPT_Python\\seminars\\sem 17\\tasks\\task2\\home\\0ZWYPL13\n",
            "c:\\UniversityProgramming\\MIPT\\Term-1\\MIPT_Python\\seminars\\sem 17\\tasks\\task2\\home\\30S63W9CEY\n",
            "c:\\UniversityProgramming\\MIPT\\Term-1\\MIPT_Python\\seminars\\sem 17\\tasks\\task2\\home\\5XA6RM\n",
            "c:\\UniversityProgramming\\MIPT\\Term-1\\MIPT_Python\\seminars\\sem 17\\tasks\\task2\\home\\985XJ\n",
            "c:\\UniversityProgramming\\MIPT\\Term-1\\MIPT_Python\\seminars\\sem 17\\tasks\\task2\\home\\9A2356O1\n",
            "c:\\UniversityProgramming\\MIPT\\Term-1\\MIPT_Python\\seminars\\sem 17\\tasks\\task2\\home\\AJCC5\n",
            "c:\\UniversityProgramming\\MIPT\\Term-1\\MIPT_Python\\seminars\\sem 17\\tasks\\task2\\home\\F56YGU\n",
            "c:\\UniversityProgramming\\MIPT\\Term-1\\MIPT_Python\\seminars\\sem 17\\tasks\\task2\\home\\F56YGU\n",
            "c:\\UniversityProgramming\\MIPT\\Term-1\\MIPT_Python\\seminars\\sem 17\\tasks\\task2\\home\\F56YGU\\2ERW6VJVLO\n",
            "c:\\UniversityProgramming\\MIPT\\Term-1\\MIPT_Python\\seminars\\sem 17\\tasks\\task2\\home\\F56YGU\\N9DWVRL\n",
            "c:\\UniversityProgramming\\MIPT\\Term-1\\MIPT_Python\\seminars\\sem 17\\tasks\\task2\\home\\F56YGU\\N9DWVRL\n",
            "c:\\UniversityProgramming\\MIPT\\Term-1\\MIPT_Python\\seminars\\sem 17\\tasks\\task2\\home\\GFIA09J7W\n",
            "c:\\UniversityProgramming\\MIPT\\Term-1\\MIPT_Python\\seminars\\sem 17\\tasks\\task2\\home\\GFIA09J7W\n",
            "c:\\UniversityProgramming\\MIPT\\Term-1\\MIPT_Python\\seminars\\sem 17\\tasks\\task2\\home\\GFIA09J7W\\4GX66LHJ7\n",
            "c:\\UniversityProgramming\\MIPT\\Term-1\\MIPT_Python\\seminars\\sem 17\\tasks\\task2\\home\\GFIA09J7W\\BAH0ESBJQ\n",
            "c:\\UniversityProgramming\\MIPT\\Term-1\\MIPT_Python\\seminars\\sem 17\\tasks\\task2\\home\\GFIA09J7W\\BAH0ESBJQ\n",
            "c:\\UniversityProgramming\\MIPT\\Term-1\\MIPT_Python\\seminars\\sem 17\\tasks\\task2\\home\\GFIA09J7W\\RUMMIP\n",
            "c:\\UniversityProgramming\\MIPT\\Term-1\\MIPT_Python\\seminars\\sem 17\\tasks\\task2\\home\\GFIA09J7W\\YZGQH\n",
            "c:\\UniversityProgramming\\MIPT\\Term-1\\MIPT_Python\\seminars\\sem 17\\tasks\\task2\\home\\I0OPR023E\n",
            "c:\\UniversityProgramming\\MIPT\\Term-1\\MIPT_Python\\seminars\\sem 17\\tasks\\task2\\home\\I0OPR023E\n",
            "c:\\UniversityProgramming\\MIPT\\Term-1\\MIPT_Python\\seminars\\sem 17\\tasks\\task2\\home\\RCNE4GGYF\n",
            "c:\\UniversityProgramming\\MIPT\\Term-1\\MIPT_Python\\seminars\\sem 17\\tasks\\task2\\home\\RCNE4GGYF\n",
            "c:\\UniversityProgramming\\MIPT\\Term-1\\MIPT_Python\\seminars\\sem 17\\tasks\\task2\\home\\RCNE4GGYF\\3U4T75FDY8\n",
            "c:\\UniversityProgramming\\MIPT\\Term-1\\MIPT_Python\\seminars\\sem 17\\tasks\\task2\\home\\RCNE4GGYF\\B2XE8JVQEQ\n",
            "c:\\UniversityProgramming\\MIPT\\Term-1\\MIPT_Python\\seminars\\sem 17\\tasks\\task2\\home\\RCNE4GGYF\\OFZ1L\n",
            "c:\\UniversityProgramming\\MIPT\\Term-1\\MIPT_Python\\seminars\\sem 17\\tasks\\task2\\home\\RCNE4GGYF\\OFZ1L\n",
            "c:\\UniversityProgramming\\MIPT\\Term-1\\MIPT_Python\\seminars\\sem 17\\tasks\\task2\\home\\RCNE4GGYF\\S3TNF05ZI\n",
            "c:\\UniversityProgramming\\MIPT\\Term-1\\MIPT_Python\\seminars\\sem 17\\tasks\\task2\\home\\RCNE4GGYF\\S3TNF05ZI\n",
            "c:\\UniversityProgramming\\MIPT\\Term-1\\MIPT_Python\\seminars\\sem 17\\tasks\\task2\\home\\RCNE4GGYF\\WDZKAUZW\n",
            "c:\\UniversityProgramming\\MIPT\\Term-1\\MIPT_Python\\seminars\\sem 17\\tasks\\task2\\home\\RCNE4GGYF\\WDZKAUZW\n"
          ]
        }
      ],
      "source": [
        "def remove_folder(path):\n",
        "    print(path)\n",
        "    for child in path.iterdir():\n",
        "        print(child)\n",
        "        if child.is_file():\n",
        "            child.unlink()\n",
        "        else:\n",
        "            remove_folder(child)\n",
        "    path.rmdir()\n",
        "remove_folder(pathlib.Path.cwd() / 'tasks' / 'task2' / 'home')\n"
      ]
    },
    {
      "cell_type": "code",
      "execution_count": 14,
      "metadata": {},
      "outputs": [],
      "source": [
        "def copy_folder(source, dest):\n",
        "    dest.mkdir(parents=True, exist_ok=True)\n",
        "    for item in os.listdir(source):\n",
        "        s = source / item\n",
        "        d = dest / item\n",
        "        if s.is_dir():\n",
        "            copy_folder(s, d)\n",
        "        else:\n",
        "            shutil.copy(s, d)\n",
        "copy_folder(pathlib.Path.cwd() / 'tasks' / 'task3' / 'home', pathlib.Path.cwd() / 'tasks' / 'task3' / 'home2')"
      ]
    },
    {
      "cell_type": "code",
      "execution_count": 16,
      "metadata": {},
      "outputs": [],
      "source": [
        "parhs1 = [x.name for x in pathlib.Path('tasks/0ask3/home').rglob(\"*\")]\n",
        "parhs2 = [x.name for x in pathlib.Path('tasks/0ask3/home2').rglob(\"*\")]"
      ]
    },
    {
      "cell_type": "code",
      "execution_count": 18,
      "metadata": {},
      "outputs": [
        {
          "data": {
            "text/plain": [
              "True"
            ]
          },
          "execution_count": 18,
          "metadata": {},
          "output_type": "execute_result"
        }
      ],
      "source": [
        "parhs1 == parhs2"
      ]
    },
    {
      "cell_type": "code",
      "execution_count": null,
      "metadata": {},
      "outputs": [],
      "source": []
    }
  ],
  "metadata": {
    "colab": {
      "collapsed_sections": [
        "Obgaj41brk43"
      ],
      "provenance": []
    },
    "kernelspec": {
      "display_name": "Python 3",
      "name": "python3"
    },
    "language_info": {
      "codemirror_mode": {
        "name": "ipython",
        "version": 3
      },
      "file_extension": ".py",
      "mimetype": "text/x-python",
      "name": "python",
      "nbconvert_exporter": "python",
      "pygments_lexer": "ipython3",
      "version": "3.11.8"
    }
  },
  "nbformat": 4,
  "nbformat_minor": 0
}
