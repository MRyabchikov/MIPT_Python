{
 "cells": [
  {
   "cell_type": "code",
   "execution_count": 3,
   "metadata": {},
   "outputs": [],
   "source": [
    "from vector3d import Vector3D"
   ]
  },
  {
   "cell_type": "code",
   "execution_count": 14,
   "metadata": {},
   "outputs": [],
   "source": [
    "def cos_between_vectors(v1, v2):\n",
    "    if bool(v1) or bool(v2):\n",
    "        return 1\n",
    "    return v1.dot(v2) / abs(v1) / abs(v2)\n",
    "\n",
    "def sin_between_vectors(v1, v2):\n",
    "    return (1-cos_between_vectors(v1, v2)**2)**0.5\n",
    "\n",
    "eps = 1e-09\n",
    "\n",
    "def distance_from_point_to_vector(p1, p2, p3):\n",
    "    a, b, c = abs(p1-p2), abs(p1-p3), abs(p2-p3)\n",
    "    if abs(a + b - c) <= eps:\n",
    "        return 0\n",
    "    if abs(a + c - b) <= eps:\n",
    "        return a\n",
    "    if abs(c + b - a) <= eps:\n",
    "        return b\n",
    "    if (cos_between_vectors(p1, p2-p3)) < 0:\n",
    "        return min(abs(p1-p2), abs(p1-p3))\n",
    "    else:\n",
    "        return a*b*sin_between_vectors(p1-p2, p1-p3) / c\n",
    "\n",
    "\n",
    "\n",
    "assert(abs(distance_from_point_to_vector(Vector3D(1/3, 0, 0), Vector3D(0, 0, 0), Vector3D(1, 0, 0)) <= eps))\n",
    "assert(abs(distance_from_point_to_vector(Vector3D(2/3, 0, 0), Vector3D(0, 0, 0), Vector3D(1, 0, 0)) <= eps))\n",
    "assert(abs(distance_from_point_to_vector(Vector3D(-1, 0, 0), Vector3D(0, 0, 0), Vector3D(1, 0, 0)) - 1) <= eps)\n",
    "assert(abs(distance_from_point_to_vector(Vector3D(2, 0, 0), Vector3D(0, 0, 0), Vector3D(1, 0, 0)) - 1) <= eps)\n",
    "assert(abs(distance_from_point_to_vector(Vector3D(0, 1, 0), Vector3D(0, 0, 0), Vector3D(1, 0, 0)) - 1) <= eps)\n",
    "assert(abs(distance_from_point_to_vector(Vector3D(2, 1, 0), Vector3D(0, 0, 0), Vector3D(1, 0, 0)) - 2**0.5) <= eps)\n",
    "assert(abs(cos_between_vectors(Vector3D(1, 2, 5), Vector3D(-1, -2, 1)) <= eps))"
   ]
  },
  {
   "cell_type": "code",
   "execution_count": null,
   "metadata": {},
   "outputs": [],
   "source": []
  }
 ],
 "metadata": {
  "kernelspec": {
   "display_name": "Python 3",
   "language": "python",
   "name": "python3"
  },
  "language_info": {
   "codemirror_mode": {
    "name": "ipython",
    "version": 3
   },
   "file_extension": ".py",
   "mimetype": "text/x-python",
   "name": "python",
   "nbconvert_exporter": "python",
   "pygments_lexer": "ipython3",
   "version": "3.11.1"
  }
 },
 "nbformat": 4,
 "nbformat_minor": 2
}
